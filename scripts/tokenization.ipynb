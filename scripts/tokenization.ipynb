{
 "cells": [
  {
   "cell_type": "code",
   "execution_count": 1,
   "metadata": {},
   "outputs": [],
   "source": [
    "import requests\n",
    "import nltk \n",
    "from nltk.tokenize import sent_tokenize, word_tokenize\n",
    "from nltk.corpus import stopwords\n",
    "import ssl\n",
    "import pandas as pd \n",
    "import spacy\n",
    "from spellchecker import SpellChecker\n",
    "from translate import Translator"
   ]
  },
  {
   "cell_type": "code",
   "execution_count": 165,
   "metadata": {},
   "outputs": [],
   "source": [
    "try:\n",
    "    _create_unverified_https_context = ssl._create_unverified_context\n",
    "except AttributeError:\n",
    "    pass\n",
    "else:\n",
    "    ssl._create_default_https_context = _create_unverified_https_context\n",
    "\n",
    "nltk.download()\n",
    "\n",
    "nltk.download('punkt')\n",
    "nltk.download('stopwords')"
   ]
  },
  {
   "cell_type": "code",
   "execution_count": 2,
   "metadata": {},
   "outputs": [
    {
     "data": {
      "text/plain": [
       "163940"
      ]
     },
     "execution_count": 2,
     "metadata": {},
     "output_type": "execute_result"
    }
   ],
   "source": [
    "#  разбиваю на слова\n",
    "file_path = '/Users/veronikaplisova/trash/visual_studio/en_project/files/The Ballad of Songbirds and Snakes - Suzanne Collins.txt'\n",
    "# file_path = '/Users/veronikaplisova/trash/visual_studio/en_project/files/text_sample.txt'\n",
    "\n",
    "punctuation_marks = ['’','!', ',', '(', ')', ':', ';', '-', '?', '.', '“', '\"', '—', '1', '2', '3', '4', '5', '6', '7', '8', '9', '0']\n",
    "\n",
    "with open(file_path, 'r', encoding='utf-8') as file:\n",
    "    content = file.read()\n",
    "content_separated = ''.join([' ' + char + ' ' if char in punctuation_marks else char for char in content])\n",
    "\n",
    "\n",
    "content_limit = content_separated#[:10000]\n",
    "\n",
    "words = word_tokenize(content_limit.lower())\n",
    "\n",
    "only_words = []\n",
    "for word in words:\n",
    "    if not any(char in punctuation_marks for char in word):\n",
    "        only_words.append(word)\n",
    "\n",
    "unique_words = only_words #list(set(only_words))\n",
    "    \n",
    "len(unique_words)"
   ]
  },
  {
   "cell_type": "code",
   "execution_count": null,
   "metadata": {},
   "outputs": [],
   "source": [
    "# привожу к инфинитивной форме\n",
    "nlp = spacy.load(\"en_core_web_sm\")\n",
    "\n",
    "lemmas = []\n",
    "for word in unique_words:\n",
    "    # print(word)\n",
    "    doc = nlp(word)\n",
    "    for token in doc:\n",
    "        # print(token)\n",
    "        text = token.text\n",
    "        lemma = token.lemma_\n",
    "        pos = token.pos_\n",
    "        tag = token.tag_\n",
    "        # print(f\"Token: {text}, Lemma: {lemma}, POS: {pos}, Tag: {tag}\")\n",
    "        lemmas.append(lemma)\n",
    "\n",
    "unique_lemmas = lemmas #list(set(lemmas))\n",
    "\n",
    "len(unique_lemmas)"
   ]
  },
  {
   "cell_type": "code",
   "execution_count": null,
   "metadata": {},
   "outputs": [
    {
     "data": {
      "text/plain": [
       "7434"
      ]
     },
     "execution_count": 168,
     "metadata": {},
     "output_type": "execute_result"
    }
   ],
   "source": [
    "# убираем бессмысленные слова\n",
    "stop_words = stopwords.words(\"english\")\n",
    "filtered_lemmas = []\n",
    "for token in unique_lemmas:\n",
    "    if token not in stop_words:\n",
    "        filtered_lemmas.append(token)\n",
    "\n",
    "len(filtered_lemmas)"
   ]
  },
  {
   "cell_type": "code",
   "execution_count": 169,
   "metadata": {},
   "outputs": [
    {
     "data": {
      "text/plain": [
       "7434"
      ]
     },
     "execution_count": 169,
     "metadata": {},
     "output_type": "execute_result"
    }
   ],
   "source": [
    "lemmas_df = pd.DataFrame(filtered_lemmas, columns= ['word'])\n",
    "len(lemmas_df)"
   ]
  },
  {
   "cell_type": "code",
   "execution_count": 170,
   "metadata": {},
   "outputs": [],
   "source": [
    "# убираем слова, которых не сущетсвует\n",
    "spell = SpellChecker()\n",
    "\n",
    "lemmas_df['correct_word'] = lemmas_df['word'].apply(spell.correction)"
   ]
  },
  {
   "cell_type": "code",
   "execution_count": 171,
   "metadata": {},
   "outputs": [
    {
     "name": "stderr",
     "output_type": "stream",
     "text": [
      "/var/folders/tg/z11g391j2wd3_2qz7ypb1tgm0000gn/T/ipykernel_11524/1769115894.py:3: SettingWithCopyWarning: \n",
      "A value is trying to be set on a copy of a slice from a DataFrame.\n",
      "Try using .loc[row_indexer,col_indexer] = value instead\n",
      "\n",
      "See the caveats in the documentation: https://pandas.pydata.org/pandas-docs/stable/user_guide/indexing.html#returning-a-view-versus-a-copy\n",
      "  correct_words_df['distinct_letter_count'] = correct_words_df['correct_word'].apply(lambda x: len(set(x)))\n"
     ]
    },
    {
     "data": {
      "text/plain": [
       "7268"
      ]
     },
     "execution_count": 171,
     "metadata": {},
     "output_type": "execute_result"
    }
   ],
   "source": [
    "# чистим слова, где 2 или меньше уникальных букв\n",
    "correct_words_df = lemmas_df[ ~lemmas_df['correct_word'].isna() ]\n",
    "\n",
    "correct_words_df['distinct_letter_count'] = correct_words_df['correct_word'].apply(lambda x: len(set(x)))\n",
    "\n",
    "correct_words_df = correct_words_df[correct_words_df['distinct_letter_count'] > 2]\n",
    "\n",
    "correct_words_df = correct_words_df[['correct_word']]\n",
    "\n",
    "len(correct_words_df)"
   ]
  },
  {
   "cell_type": "code",
   "execution_count": 172,
   "metadata": {},
   "outputs": [
    {
     "data": {
      "text/html": [
       "<div>\n",
       "<style scoped>\n",
       "    .dataframe tbody tr th:only-of-type {\n",
       "        vertical-align: middle;\n",
       "    }\n",
       "\n",
       "    .dataframe tbody tr th {\n",
       "        vertical-align: top;\n",
       "    }\n",
       "\n",
       "    .dataframe thead th {\n",
       "        text-align: right;\n",
       "    }\n",
       "</style>\n",
       "<table border=\"1\" class=\"dataframe\">\n",
       "  <thead>\n",
       "    <tr style=\"text-align: right;\">\n",
       "      <th></th>\n",
       "      <th>correct_word</th>\n",
       "    </tr>\n",
       "  </thead>\n",
       "  <tbody>\n",
       "    <tr>\n",
       "      <th>0</th>\n",
       "      <td>ancient</td>\n",
       "    </tr>\n",
       "    <tr>\n",
       "      <th>1</th>\n",
       "      <td>topple</td>\n",
       "    </tr>\n",
       "    <tr>\n",
       "      <th>2</th>\n",
       "      <td>ballad</td>\n",
       "    </tr>\n",
       "    <tr>\n",
       "      <th>3</th>\n",
       "      <td>sidestep</td>\n",
       "    </tr>\n",
       "    <tr>\n",
       "      <th>4</th>\n",
       "      <td>sure</td>\n",
       "    </tr>\n",
       "    <tr>\n",
       "      <th>...</th>\n",
       "      <td>...</td>\n",
       "    </tr>\n",
       "    <tr>\n",
       "      <th>7429</th>\n",
       "      <td>polite</td>\n",
       "    </tr>\n",
       "    <tr>\n",
       "      <th>7430</th>\n",
       "      <td>electricity</td>\n",
       "    </tr>\n",
       "    <tr>\n",
       "      <th>7431</th>\n",
       "      <td>breach</td>\n",
       "    </tr>\n",
       "    <tr>\n",
       "      <th>7432</th>\n",
       "      <td>brow</td>\n",
       "    </tr>\n",
       "    <tr>\n",
       "      <th>7433</th>\n",
       "      <td>hollow</td>\n",
       "    </tr>\n",
       "  </tbody>\n",
       "</table>\n",
       "<p>7268 rows × 1 columns</p>\n",
       "</div>"
      ],
      "text/plain": [
       "     correct_word\n",
       "0         ancient\n",
       "1          topple\n",
       "2          ballad\n",
       "3        sidestep\n",
       "4            sure\n",
       "...           ...\n",
       "7429       polite\n",
       "7430  electricity\n",
       "7431       breach\n",
       "7432         brow\n",
       "7433       hollow\n",
       "\n",
       "[7268 rows x 1 columns]"
      ]
     },
     "execution_count": 172,
     "metadata": {},
     "output_type": "execute_result"
    }
   ],
   "source": [
    "correct_words_df"
   ]
  },
  {
   "cell_type": "code",
   "execution_count": 173,
   "metadata": {},
   "outputs": [
    {
     "data": {
      "text/html": [
       "<div>\n",
       "<style scoped>\n",
       "    .dataframe tbody tr th:only-of-type {\n",
       "        vertical-align: middle;\n",
       "    }\n",
       "\n",
       "    .dataframe tbody tr th {\n",
       "        vertical-align: top;\n",
       "    }\n",
       "\n",
       "    .dataframe thead th {\n",
       "        text-align: right;\n",
       "    }\n",
       "</style>\n",
       "<table border=\"1\" class=\"dataframe\">\n",
       "  <thead>\n",
       "    <tr style=\"text-align: right;\">\n",
       "      <th></th>\n",
       "      <th>word</th>\n",
       "    </tr>\n",
       "  </thead>\n",
       "  <tbody>\n",
       "    <tr>\n",
       "      <th>0</th>\n",
       "      <td>ancient</td>\n",
       "    </tr>\n",
       "    <tr>\n",
       "      <th>1</th>\n",
       "      <td>topple</td>\n",
       "    </tr>\n",
       "    <tr>\n",
       "      <th>2</th>\n",
       "      <td>ballad</td>\n",
       "    </tr>\n",
       "    <tr>\n",
       "      <th>3</th>\n",
       "      <td>sidestep</td>\n",
       "    </tr>\n",
       "    <tr>\n",
       "      <th>4</th>\n",
       "      <td>sure</td>\n",
       "    </tr>\n",
       "    <tr>\n",
       "      <th>...</th>\n",
       "      <td>...</td>\n",
       "    </tr>\n",
       "    <tr>\n",
       "      <th>7429</th>\n",
       "      <td>polite</td>\n",
       "    </tr>\n",
       "    <tr>\n",
       "      <th>7430</th>\n",
       "      <td>electricity</td>\n",
       "    </tr>\n",
       "    <tr>\n",
       "      <th>7431</th>\n",
       "      <td>breach</td>\n",
       "    </tr>\n",
       "    <tr>\n",
       "      <th>7432</th>\n",
       "      <td>brow</td>\n",
       "    </tr>\n",
       "    <tr>\n",
       "      <th>7433</th>\n",
       "      <td>hollow</td>\n",
       "    </tr>\n",
       "  </tbody>\n",
       "</table>\n",
       "<p>7268 rows × 1 columns</p>\n",
       "</div>"
      ],
      "text/plain": [
       "             word\n",
       "0         ancient\n",
       "1          topple\n",
       "2          ballad\n",
       "3        sidestep\n",
       "4            sure\n",
       "...           ...\n",
       "7429       polite\n",
       "7430  electricity\n",
       "7431       breach\n",
       "7432         brow\n",
       "7433       hollow\n",
       "\n",
       "[7268 rows x 1 columns]"
      ]
     },
     "execution_count": 173,
     "metadata": {},
     "output_type": "execute_result"
    }
   ],
   "source": [
    "correct_words_df.drop_duplicates()\n",
    "correct_words_df.columns = ['word']\n",
    "correct_words_df"
   ]
  },
  {
   "cell_type": "code",
   "execution_count": 174,
   "metadata": {},
   "outputs": [],
   "source": [
    "correct_words_df.to_csv('/Users/veronikaplisova/trash/visual_studio/en_project/files/en_words.csv', index=False)"
   ]
  },
  {
   "cell_type": "code",
   "execution_count": 175,
   "metadata": {},
   "outputs": [],
   "source": [
    "def translate_to_russian(word):\n",
    "    translator = Translator(to_lang=\"ru\")\n",
    "    translation = translator.translate(word)\n",
    "    return translation"
   ]
  },
  {
   "cell_type": "code",
   "execution_count": 176,
   "metadata": {},
   "outputs": [],
   "source": [
    "correct_words_df['word_ru'] = correct_words_df['word'].apply(translate_to_russian)"
   ]
  },
  {
   "cell_type": "code",
   "execution_count": 177,
   "metadata": {},
   "outputs": [
    {
     "data": {
      "text/html": [
       "<div>\n",
       "<style scoped>\n",
       "    .dataframe tbody tr th:only-of-type {\n",
       "        vertical-align: middle;\n",
       "    }\n",
       "\n",
       "    .dataframe tbody tr th {\n",
       "        vertical-align: top;\n",
       "    }\n",
       "\n",
       "    .dataframe thead th {\n",
       "        text-align: right;\n",
       "    }\n",
       "</style>\n",
       "<table border=\"1\" class=\"dataframe\">\n",
       "  <thead>\n",
       "    <tr style=\"text-align: right;\">\n",
       "      <th></th>\n",
       "      <th>word</th>\n",
       "      <th>word_ru</th>\n",
       "    </tr>\n",
       "  </thead>\n",
       "  <tbody>\n",
       "    <tr>\n",
       "      <th>0</th>\n",
       "      <td>ancient</td>\n",
       "      <td>Древний</td>\n",
       "    </tr>\n",
       "    <tr>\n",
       "      <th>1</th>\n",
       "      <td>topple</td>\n",
       "      <td>Чебурашка</td>\n",
       "    </tr>\n",
       "    <tr>\n",
       "      <th>2</th>\n",
       "      <td>ballad</td>\n",
       "      <td>баллады</td>\n",
       "    </tr>\n",
       "    <tr>\n",
       "      <th>3</th>\n",
       "      <td>sidestep</td>\n",
       "      <td>sidestep</td>\n",
       "    </tr>\n",
       "    <tr>\n",
       "      <th>4</th>\n",
       "      <td>sure</td>\n",
       "      <td>конечно</td>\n",
       "    </tr>\n",
       "    <tr>\n",
       "      <th>...</th>\n",
       "      <td>...</td>\n",
       "      <td>...</td>\n",
       "    </tr>\n",
       "    <tr>\n",
       "      <th>7429</th>\n",
       "      <td>polite</td>\n",
       "      <td>MYMEMORY WARNING: YOU USED ALL AVAILABLE FREE ...</td>\n",
       "    </tr>\n",
       "    <tr>\n",
       "      <th>7430</th>\n",
       "      <td>electricity</td>\n",
       "      <td>MYMEMORY WARNING: YOU USED ALL AVAILABLE FREE ...</td>\n",
       "    </tr>\n",
       "    <tr>\n",
       "      <th>7431</th>\n",
       "      <td>breach</td>\n",
       "      <td>MYMEMORY WARNING: YOU USED ALL AVAILABLE FREE ...</td>\n",
       "    </tr>\n",
       "    <tr>\n",
       "      <th>7432</th>\n",
       "      <td>brow</td>\n",
       "      <td>MYMEMORY WARNING: YOU USED ALL AVAILABLE FREE ...</td>\n",
       "    </tr>\n",
       "    <tr>\n",
       "      <th>7433</th>\n",
       "      <td>hollow</td>\n",
       "      <td>MYMEMORY WARNING: YOU USED ALL AVAILABLE FREE ...</td>\n",
       "    </tr>\n",
       "  </tbody>\n",
       "</table>\n",
       "<p>7268 rows × 2 columns</p>\n",
       "</div>"
      ],
      "text/plain": [
       "             word                                            word_ru\n",
       "0         ancient                                            Древний\n",
       "1          topple                                          Чебурашка\n",
       "2          ballad                                            баллады\n",
       "3        sidestep                                           sidestep\n",
       "4            sure                                            конечно\n",
       "...           ...                                                ...\n",
       "7429       polite  MYMEMORY WARNING: YOU USED ALL AVAILABLE FREE ...\n",
       "7430  electricity  MYMEMORY WARNING: YOU USED ALL AVAILABLE FREE ...\n",
       "7431       breach  MYMEMORY WARNING: YOU USED ALL AVAILABLE FREE ...\n",
       "7432         brow  MYMEMORY WARNING: YOU USED ALL AVAILABLE FREE ...\n",
       "7433       hollow  MYMEMORY WARNING: YOU USED ALL AVAILABLE FREE ...\n",
       "\n",
       "[7268 rows x 2 columns]"
      ]
     },
     "execution_count": 177,
     "metadata": {},
     "output_type": "execute_result"
    }
   ],
   "source": [
    "correct_words_df"
   ]
  },
  {
   "cell_type": "code",
   "execution_count": 178,
   "metadata": {},
   "outputs": [],
   "source": [
    "correct_words_df.to_csv('/Users/veronikaplisova/trash/visual_studio/en_project/files/en_ru_words.csv', index=False)"
   ]
  },
  {
   "cell_type": "code",
   "execution_count": null,
   "metadata": {},
   "outputs": [],
   "source": []
  }
 ],
 "metadata": {
  "kernelspec": {
   "display_name": "venv",
   "language": "python",
   "name": "python3"
  },
  "language_info": {
   "codemirror_mode": {
    "name": "ipython",
    "version": 3
   },
   "file_extension": ".py",
   "mimetype": "text/x-python",
   "name": "python",
   "nbconvert_exporter": "python",
   "pygments_lexer": "ipython3",
   "version": "3.11.2"
  }
 },
 "nbformat": 4,
 "nbformat_minor": 2
}
