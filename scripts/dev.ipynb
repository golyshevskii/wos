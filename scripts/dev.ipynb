{
 "cells": [
  {
   "cell_type": "code",
   "execution_count": 90,
   "metadata": {},
   "outputs": [],
   "source": [
    "import nltk\n",
    "import re\n",
    "import spacy\n",
    "import pandas as pd\n",
    "import translate\n",
    "from config import PATH"
   ]
  },
  {
   "cell_type": "code",
   "execution_count": null,
   "metadata": {},
   "outputs": [],
   "source": [
    "# import ssl\n",
    "\n",
    "# # RUN THIS CELL TO GET THE RIGHT FILES FOR → nltk\n",
    "# try:\n",
    "#     _create_unverified_https_context = ssl._create_unverified_context\n",
    "# except AttributeError:\n",
    "#     pass\n",
    "# else:\n",
    "#     ssl._create_default_https_context = _create_unverified_https_context\n",
    "\n",
    "# nltk.download()\n",
    "\n",
    "# nltk.download('punkt')\n",
    "# nltk.download('stopwords')"
   ]
  },
  {
   "cell_type": "code",
   "execution_count": 66,
   "metadata": {},
   "outputs": [],
   "source": [
    "# define the path to the file\n",
    "path = \"wos/subtitles/silicon_valley/season_1/silicon_valley_1x01_en.srt\"\n",
    "\n",
    "with open(f\"{PATH}/{path}\", \"r\") as file:\n",
    "    subtitles = file.read()"
   ]
  },
  {
   "cell_type": "code",
   "execution_count": 67,
   "metadata": {},
   "outputs": [],
   "source": [
    "pattern = r\"[^a-zA-Z\\s]\"\n",
    "\n",
    "clean_subtitles = re.sub(pattern, \" \", subtitles)"
   ]
  },
  {
   "cell_type": "code",
   "execution_count": 68,
   "metadata": {},
   "outputs": [
    {
     "data": {
      "text/plain": [
       "4133"
      ]
     },
     "execution_count": 68,
     "metadata": {},
     "output_type": "execute_result"
    }
   ],
   "source": [
    "words = nltk.word_tokenize(clean_subtitles.lower())\n",
    "# words_df = pd.DataFrame(words, columns=[\"word\"])\n",
    "len(words)"
   ]
  },
  {
   "cell_type": "code",
   "execution_count": 69,
   "metadata": {},
   "outputs": [],
   "source": [
    "# FIRSTLY DOWNLOAD python -m spacy download en_core_web_sm\n",
    "model = spacy.load(\"en_core_web_sm\")"
   ]
  },
  {
   "cell_type": "code",
   "execution_count": 70,
   "metadata": {},
   "outputs": [],
   "source": [
    "columns = [\"word\", \"error\"]\n",
    "errors_df = pd.DataFrame([], columns=columns)\n",
    "\n",
    "lemmas = []\n",
    "for word in words:\n",
    "    try:\n",
    "        doc = model(word)\n",
    "        for token in doc:\n",
    "            lemma = token.lemma_\n",
    "            lemmas.append(lemma)\n",
    "    \n",
    "    except Exception as ex:\n",
    "        temp_df = pd.DataFrame([(word, ex)], columns=columns)\n",
    "        errors_df = pd.concat([errors_df, temp_df], ignore_index=True)"
   ]
  },
  {
   "cell_type": "code",
   "execution_count": 71,
   "metadata": {},
   "outputs": [],
   "source": [
    "#stopwords = nltk.corpus.stopwords.words(\"english\")"
   ]
  },
  {
   "cell_type": "code",
   "execution_count": 94,
   "metadata": {},
   "outputs": [],
   "source": [
    "lemmas_df = pd.DataFrame(lemmas, columns=[\"lemma\"])\n",
    "# filtered_lemmas_df = lemmas_df[~lemmas_df[\"lemma\"].isin(stopwords)]"
   ]
  },
  {
   "cell_type": "code",
   "execution_count": 98,
   "metadata": {},
   "outputs": [],
   "source": [
    "words_df = lemmas_df['lemma'].value_counts().reset_index()\n",
    "words_df.columns = ['lemma', 'cnt']"
   ]
  },
  {
   "cell_type": "code",
   "execution_count": 99,
   "metadata": {},
   "outputs": [],
   "source": [
    "def from_en_to_ru(word):\n",
    "    translator = translate.Translator(to_lang=\"ru\")\n",
    "    word_ru = translator.translate(word)\n",
    "    return word_ru"
   ]
  },
  {
   "cell_type": "code",
   "execution_count": 100,
   "metadata": {},
   "outputs": [],
   "source": [
    "words_df['ru'] = words_df['lemma'].apply(from_en_to_ru)"
   ]
  },
  {
   "cell_type": "code",
   "execution_count": 101,
   "metadata": {},
   "outputs": [],
   "source": [
    "ru_words_df = words_df[[\"cnt\", \"lemma\", \"ru\"]].sort_values(by=\"cnt\", ascending=False)"
   ]
  },
  {
   "cell_type": "code",
   "execution_count": 104,
   "metadata": {},
   "outputs": [
    {
     "ename": "",
     "evalue": "",
     "output_type": "error",
     "traceback": [
      "\u001b[1;31mПри выполнении кода в текущей ячейке или предыдущей ячейке ядро аварийно завершило работу. Проверьте код в ячейках, чтобы определить возможную причину сбоя. Щелкните <a href=\"https://aka.ms/vscodeJupyterKernelCrash\">здесь</a> для получения дополнительных сведений. Подробнее см. в <a href='command:jupyter.viewOutput'>журнале Jupyter</a>."
     ]
    }
   ],
   "source": [
    "csv_path = f\"{PATH}/wos/dictionary/silicon_valley/csv/silicon_valley_1x01_en_ru.csv\"\n",
    "ru_words_df.to_csv(csv_path, index=False)"
   ]
  },
  {
   "cell_type": "code",
   "execution_count": null,
   "metadata": {},
   "outputs": [],
   "source": []
  }
 ],
 "metadata": {
  "kernelspec": {
   "display_name": "venv",
   "language": "python",
   "name": "python3"
  },
  "language_info": {
   "codemirror_mode": {
    "name": "ipython",
    "version": 3
   },
   "file_extension": ".py",
   "mimetype": "text/x-python",
   "name": "python",
   "nbconvert_exporter": "python",
   "pygments_lexer": "ipython3",
   "version": "3.12.0"
  }
 },
 "nbformat": 4,
 "nbformat_minor": 2
}
